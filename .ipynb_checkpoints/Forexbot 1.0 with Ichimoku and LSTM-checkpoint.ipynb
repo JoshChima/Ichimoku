{
 "cells": [
  {
   "cell_type": "markdown",
   "metadata": {},
   "source": [
    "# Forexbot 1.0\n",
    "#### By Joshua Ikechukwu Chima\n",
    "\n",
    "#### Objective:\n",
    "- Create an Deep LSTM RNN that can successfully predict movements in the forex markets using the Ichimoku indicator higher than 70% accuracy"
   ]
  },
  {
   "cell_type": "code",
   "execution_count": 1,
   "metadata": {},
   "outputs": [
    {
     "name": "stderr",
     "output_type": "stream",
     "text": [
      "C:\\Users\\Joshua Chima\\.conda\\envs\\Machine Learning\\lib\\site-packages\\h5py\\__init__.py:36: FutureWarning: Conversion of the second argument of issubdtype from `float` to `np.floating` is deprecated. In future, it will be treated as `np.float64 == np.dtype(float).type`.\n",
      "  from ._conv import register_converters as _register_converters\n",
      "Using TensorFlow backend.\n"
     ]
    },
    {
     "data": {
      "text/html": [
       "        <script type=\"text/javascript\">\n",
       "        window.PlotlyConfig = {MathJaxConfig: 'local'};\n",
       "        if (window.MathJax) {MathJax.Hub.Config({SVG: {font: \"STIX-Web\"}});}\n",
       "        if (typeof require !== 'undefined') {\n",
       "        require.undef(\"plotly\");\n",
       "        requirejs.config({\n",
       "            paths: {\n",
       "                'plotly': ['https://cdn.plot.ly/plotly-latest.min']\n",
       "            }\n",
       "        });\n",
       "        require(['plotly'], function(Plotly) {\n",
       "            window._Plotly = Plotly;\n",
       "        });\n",
       "        }\n",
       "        </script>\n",
       "        "
      ]
     },
     "metadata": {},
     "output_type": "display_data"
    }
   ],
   "source": [
    "from math import sqrt\n",
    "from numpy import concatenate\n",
    "from pandas import read_csv\n",
    "from pandas import DataFrame\n",
    "from pandas import concat\n",
    "from sklearn.preprocessing import MinMaxScaler\n",
    "from sklearn.preprocessing import LabelEncoder\n",
    "from sklearn.metrics import mean_squared_error\n",
    "import keras\n",
    "from keras.models import Sequential\n",
    "from keras.layers import Dense, Dropout\n",
    "from keras.layers import LSTM\n",
    "import tensorflow as tf\n",
    "\n",
    "\n",
    "import matplotlib.pyplot as plt\n",
    "import pandas as pd\n",
    "import datetime as dt\n",
    "import os\n",
    "import numpy as np\n",
    "from sklearn.preprocessing import MinMaxScaler\n",
    "%run ./candlestick_ichimoku.ipynb"
   ]
  },
  {
   "cell_type": "code",
   "execution_count": 8,
   "metadata": {},
   "outputs": [
    {
     "name": "stdout",
     "output_type": "stream",
     "text": [
      "[name: \"/device:CPU:0\"\n",
      "device_type: \"CPU\"\n",
      "memory_limit: 268435456\n",
      "locality {\n",
      "}\n",
      "incarnation: 16674659984023448618\n",
      ", name: \"/device:GPU:0\"\n",
      "device_type: \"GPU\"\n",
      "memory_limit: 1470552473\n",
      "locality {\n",
      "  bus_id: 1\n",
      "  links {\n",
      "  }\n",
      "}\n",
      "incarnation: 1013374480909142998\n",
      "physical_device_desc: \"device: 0, name: GeForce 940MX, pci bus id: 0000:09:00.0, compute capability: 5.0\"\n",
      "]\n"
     ]
    },
    {
     "data": {
      "text/plain": [
       "['/job:localhost/replica:0/task:0/device:GPU:0']"
      ]
     },
     "execution_count": 8,
     "metadata": {},
     "output_type": "execute_result"
    }
   ],
   "source": [
    "from tensorflow.python.client import device_lib\n",
    "print(device_lib.list_local_devices())\n",
    "from keras import backend as K\n",
    "K.tensorflow_backend._get_available_gpus()"
   ]
  },
  {
   "cell_type": "code",
   "execution_count": 9,
   "metadata": {},
   "outputs": [
    {
     "data": {
      "text/html": [
       "<div>\n",
       "<table border=\"1\" class=\"dataframe\">\n",
       "  <thead>\n",
       "    <tr style=\"text-align: right;\">\n",
       "      <th></th>\n",
       "      <th>Date</th>\n",
       "      <th>Open</th>\n",
       "      <th>High</th>\n",
       "      <th>Low</th>\n",
       "      <th>Close</th>\n",
       "    </tr>\n",
       "  </thead>\n",
       "  <tbody>\n",
       "    <tr>\n",
       "      <th>0</th>\n",
       "      <td>2014-01-01 23:00:00</td>\n",
       "      <td>105.237</td>\n",
       "      <td>105.380</td>\n",
       "      <td>105.217</td>\n",
       "      <td>105.361</td>\n",
       "    </tr>\n",
       "    <tr>\n",
       "      <th>1</th>\n",
       "      <td>2014-01-02 00:00:00</td>\n",
       "      <td>105.358</td>\n",
       "      <td>105.400</td>\n",
       "      <td>105.266</td>\n",
       "      <td>105.328</td>\n",
       "    </tr>\n",
       "    <tr>\n",
       "      <th>2</th>\n",
       "      <td>2014-01-02 01:00:00</td>\n",
       "      <td>105.328</td>\n",
       "      <td>105.332</td>\n",
       "      <td>105.242</td>\n",
       "      <td>105.312</td>\n",
       "    </tr>\n",
       "    <tr>\n",
       "      <th>3</th>\n",
       "      <td>2014-01-02 02:00:00</td>\n",
       "      <td>105.313</td>\n",
       "      <td>105.329</td>\n",
       "      <td>105.268</td>\n",
       "      <td>105.299</td>\n",
       "    </tr>\n",
       "    <tr>\n",
       "      <th>4</th>\n",
       "      <td>2014-01-02 03:00:00</td>\n",
       "      <td>105.302</td>\n",
       "      <td>105.322</td>\n",
       "      <td>105.233</td>\n",
       "      <td>105.233</td>\n",
       "    </tr>\n",
       "  </tbody>\n",
       "</table>\n",
       "</div>"
      ],
      "text/plain": [
       "                 Date     Open     High      Low    Close\n",
       "0 2014-01-01 23:00:00  105.237  105.380  105.217  105.361\n",
       "1 2014-01-02 00:00:00  105.358  105.400  105.266  105.328\n",
       "2 2014-01-02 01:00:00  105.328  105.332  105.242  105.312\n",
       "3 2014-01-02 02:00:00  105.313  105.329  105.268  105.299\n",
       "4 2014-01-02 03:00:00  105.302  105.322  105.233  105.233"
      ]
     },
     "execution_count": 9,
     "metadata": {},
     "output_type": "execute_result"
    }
   ],
   "source": [
    "datafile=\"USDJPY_H1_2014_2018.csv\"\n",
    "df = MetaTraderDataConverter(datafile)\n",
    "df = df[['Date','Open', 'High', 'Low','Close']]\n",
    "df.head()"
   ]
  },
  {
   "cell_type": "code",
   "execution_count": 10,
   "metadata": {},
   "outputs": [
    {
     "data": {
      "text/html": [
       "<div>\n",
       "<table border=\"1\" class=\"dataframe\">\n",
       "  <thead>\n",
       "    <tr style=\"text-align: right;\">\n",
       "      <th></th>\n",
       "      <th>Open</th>\n",
       "      <th>High</th>\n",
       "      <th>Low</th>\n",
       "      <th>Close</th>\n",
       "      <th>tenkan_sen</th>\n",
       "      <th>kijun_sen</th>\n",
       "      <th>senkou_span_a</th>\n",
       "      <th>senkou_span_b</th>\n",
       "      <th>chikou_span</th>\n",
       "      <th>pct_change</th>\n",
       "    </tr>\n",
       "    <tr>\n",
       "      <th>Date</th>\n",
       "      <th></th>\n",
       "      <th></th>\n",
       "      <th></th>\n",
       "      <th></th>\n",
       "      <th></th>\n",
       "      <th></th>\n",
       "      <th></th>\n",
       "      <th></th>\n",
       "      <th></th>\n",
       "      <th></th>\n",
       "    </tr>\n",
       "  </thead>\n",
       "  <tbody>\n",
       "    <tr>\n",
       "      <th>2014-01-08 07:00:00</th>\n",
       "      <td>104.987</td>\n",
       "      <td>105.000</td>\n",
       "      <td>104.835</td>\n",
       "      <td>104.911</td>\n",
       "      <td>104.7920</td>\n",
       "      <td>104.6245</td>\n",
       "      <td>104.37075</td>\n",
       "      <td>104.7575</td>\n",
       "      <td>104.888</td>\n",
       "      <td>-0.040970</td>\n",
       "    </tr>\n",
       "    <tr>\n",
       "      <th>2014-01-08 08:00:00</th>\n",
       "      <td>104.912</td>\n",
       "      <td>105.123</td>\n",
       "      <td>104.907</td>\n",
       "      <td>105.064</td>\n",
       "      <td>104.8745</td>\n",
       "      <td>104.6860</td>\n",
       "      <td>104.38300</td>\n",
       "      <td>104.7575</td>\n",
       "      <td>104.988</td>\n",
       "      <td>0.073342</td>\n",
       "    </tr>\n",
       "    <tr>\n",
       "      <th>2014-01-08 09:00:00</th>\n",
       "      <td>105.064</td>\n",
       "      <td>105.064</td>\n",
       "      <td>104.935</td>\n",
       "      <td>105.031</td>\n",
       "      <td>104.8925</td>\n",
       "      <td>104.6860</td>\n",
       "      <td>104.38375</td>\n",
       "      <td>104.7575</td>\n",
       "      <td>104.985</td>\n",
       "      <td>0.113428</td>\n",
       "    </tr>\n",
       "    <tr>\n",
       "      <th>2014-01-08 10:00:00</th>\n",
       "      <td>105.031</td>\n",
       "      <td>105.056</td>\n",
       "      <td>104.908</td>\n",
       "      <td>104.934</td>\n",
       "      <td>104.8925</td>\n",
       "      <td>104.6860</td>\n",
       "      <td>104.38625</td>\n",
       "      <td>104.7575</td>\n",
       "      <td>104.957</td>\n",
       "      <td>-0.123734</td>\n",
       "    </tr>\n",
       "    <tr>\n",
       "      <th>2014-01-08 11:00:00</th>\n",
       "      <td>104.934</td>\n",
       "      <td>104.984</td>\n",
       "      <td>104.666</td>\n",
       "      <td>104.770</td>\n",
       "      <td>104.8945</td>\n",
       "      <td>104.7010</td>\n",
       "      <td>104.38625</td>\n",
       "      <td>104.7575</td>\n",
       "      <td>105.030</td>\n",
       "      <td>-0.248498</td>\n",
       "    </tr>\n",
       "  </tbody>\n",
       "</table>\n",
       "</div>"
      ],
      "text/plain": [
       "                        Open     High      Low    Close  tenkan_sen  \\\n",
       "Date                                                                  \n",
       "2014-01-08 07:00:00  104.987  105.000  104.835  104.911    104.7920   \n",
       "2014-01-08 08:00:00  104.912  105.123  104.907  105.064    104.8745   \n",
       "2014-01-08 09:00:00  105.064  105.064  104.935  105.031    104.8925   \n",
       "2014-01-08 10:00:00  105.031  105.056  104.908  104.934    104.8925   \n",
       "2014-01-08 11:00:00  104.934  104.984  104.666  104.770    104.8945   \n",
       "\n",
       "                     kijun_sen  senkou_span_a  senkou_span_b  chikou_span  \\\n",
       "Date                                                                        \n",
       "2014-01-08 07:00:00   104.6245      104.37075       104.7575      104.888   \n",
       "2014-01-08 08:00:00   104.6860      104.38300       104.7575      104.988   \n",
       "2014-01-08 09:00:00   104.6860      104.38375       104.7575      104.985   \n",
       "2014-01-08 10:00:00   104.6860      104.38625       104.7575      104.957   \n",
       "2014-01-08 11:00:00   104.7010      104.38625       104.7575      105.030   \n",
       "\n",
       "                     pct_change  \n",
       "Date                             \n",
       "2014-01-08 07:00:00   -0.040970  \n",
       "2014-01-08 08:00:00    0.073342  \n",
       "2014-01-08 09:00:00    0.113428  \n",
       "2014-01-08 10:00:00   -0.123734  \n",
       "2014-01-08 11:00:00   -0.248498  "
      ]
     },
     "execution_count": 10,
     "metadata": {},
     "output_type": "execute_result"
    }
   ],
   "source": [
    "df = Ichimoku(df)\n",
    "#df['Date'] =  pd.to_datetime(df['Date'], format='%d%b%Y:%H:%M:%S.%f')\n",
    "df = df.set_index(df['Date'])\n",
    "df = df.drop('Date', axis=1)\n",
    "df.head()"
   ]
  },
  {
   "cell_type": "code",
   "execution_count": 11,
   "metadata": {},
   "outputs": [
    {
     "data": {
      "image/png": "[encoded data removed]",
      "text/plain": [
       "<matplotlib.figure.Figure at 0x2226fc60128>"
      ]
     },
     "metadata": {},
     "output_type": "display_data"
    }
   ],
   "source": [
    "values = df.values\n",
    "groups = list(range(0,len(df.columns)))\n",
    "i = 1\n",
    "\n",
    "plt.figure()\n",
    "for group in groups:\n",
    "    plt.subplot(len(groups), 1, i)\n",
    "    plt.plot(values[:, group])\n",
    "    plt.title(df.columns[group], y=0.5, loc='right')\n",
    "    i +=1\n",
    "plt.show()"
   ]
  },
  {
   "cell_type": "code",
   "execution_count": 12,
   "metadata": {
    "scrolled": true
   },
   "outputs": [
    {
     "name": "stdout",
     "output_type": "stream",
     "text": [
      "   var1(t-1)  var2(t-1)  var3(t-1)  var4(t-1)  var5(t-1)  var6(t-1)  \\\n",
      "1  -0.594268  -0.609400  -0.557572  -0.600169  -0.608749  -0.640594   \n",
      "2  -0.600046  -0.599907  -0.552173  -0.588380  -0.604053  -0.635743   \n",
      "3  -0.588335  -0.604460  -0.550073  -0.590923  -0.602200  -0.635743   \n",
      "4  -0.590878  -0.605078  -0.552098  -0.598397  -0.602200  -0.635743   \n",
      "5  -0.598351  -0.610635  -0.570245  -0.611034  -0.602076  -0.634560   \n",
      "\n",
      "   var7(t-1)  var8(t-1)  var9(t-1)  var10(t-1)  var10(t)  \n",
      "1  -0.657982  -0.629951  -0.601942    0.371867  0.414505  \n",
      "2  -0.657014  -0.629951  -0.594236    0.414505  0.429457  \n",
      "3  -0.656955  -0.629951  -0.594468    0.429457  0.340997  \n",
      "4  -0.656757  -0.629951  -0.596625    0.340997  0.294461  \n",
      "5  -0.656757  -0.629951  -0.591001    0.294461  0.343428  \n"
     ]
    }
   ],
   "source": [
    "def series_to_supervised(data, n_in=1, n_out=1, dropnan=True):\n",
    "\t\"\"\"\n",
    "\tFrame a time series as a supervised learning dataset.\n",
    "\tArguments:\n",
    "\t\tdata: Sequence of observations as a list or NumPy array.\n",
    "\t\tn_in: Number of lag observations as input (X).\n",
    "\t\tn_out: Number of observations as output (y).\n",
    "\t\tdropnan: Boolean whether or not to drop rows with NaN values.\n",
    "\tReturns:\n",
    "\t\tPandas DataFrame of series framed for supervised learning.\n",
    "\t\"\"\"\n",
    "\tn_vars = 1 if type(data) is list else data.shape[1]\n",
    "\tdf = DataFrame(data)\n",
    "\tcols, names = list(), list()\n",
    "\t# input sequence (t-n, ... t-1)\n",
    "\tfor i in range(n_in, 0, -1):\n",
    "\t\tcols.append(df.shift(i))\n",
    "\t\tnames += [('var%d(t-%d)' % (j+1, i)) for j in range(n_vars)]\n",
    "\t# forecast sequence (t, t+1, ... t+n)\n",
    "\tfor i in range(0, n_out):\n",
    "\t\tcols.append(df.shift(-i))\n",
    "\t\tif i == 0:\n",
    "\t\t\tnames += [('var%d(t)' % (j+1)) for j in range(n_vars)]\n",
    "\t\telse:\n",
    "\t\t\tnames += [('var%d(t+%d)' % (j+1, i)) for j in range(n_vars)]\n",
    "\t# put it all together\n",
    "\tagg = concat(cols, axis=1)\n",
    "\tagg.columns = names\n",
    "\t# drop rows with NaN values\n",
    "\tif dropnan:\n",
    "\t\tagg.dropna(inplace=True)\n",
    "\treturn agg\n",
    "\n",
    "# load dataset\n",
    "values = df.values\n",
    "## integer encode direction\n",
    "encoder = LabelEncoder()\n",
    "values[:,4] = encoder.fit_transform(values[:,4])\n",
    "# ensure all data is float\n",
    "values = values.astype('float32')\n",
    "# normalize features\n",
    "scaler = MinMaxScaler(feature_range=(-1, 1))\n",
    "scaled = scaler.fit_transform(values)\n",
    "# frame as supervised learning\n",
    "reframed = series_to_supervised(scaled, 1, 1)\n",
    "# drop columns we don't want to predict\n",
    "#[11,12,13,14,15,16,17,18,19]\n",
    "refclen = len(reframed.columns)\n",
    "reframed.drop(reframed.columns[list(range(refclen-len(df.columns),refclen-1))], axis=1, inplace=True)\n",
    "print(reframed.head())"
   ]
  },
  {
   "cell_type": "code",
   "execution_count": 13,
   "metadata": {},
   "outputs": [
    {
     "name": "stdout",
     "output_type": "stream",
     "text": [
      "(26280, 1, 10) (26280,) (4558, 1, 10) (4558,)\n"
     ]
    }
   ],
   "source": [
    "# split into train and test sets\n",
    "values = reframed.values\n",
    "n_train_hours = 3 * 365 * 24\n",
    "train = values[:n_train_hours, :]\n",
    "test = values[n_train_hours:, :]\n",
    "# split into input and outputs\n",
    "train_X, train_y = train[:, :-1], train[:, -1]\n",
    "test_X, test_y = test[:, :-1], test[:, -1]\n",
    "# reshape input to be 3D [samples, timesteps, features]\n",
    "train_X = train_X.reshape((train_X.shape[0], 1, train_X.shape[1]))\n",
    "test_X = test_X.reshape((test_X.shape[0], 1, test_X.shape[1]))\n",
    "print(train_X.shape, train_y.shape, test_X.shape, test_y.shape)"
   ]
  },
  {
   "cell_type": "code",
   "execution_count": 57,
   "metadata": {},
   "outputs": [
    {
     "name": "stderr",
     "output_type": "stream",
     "text": [
      "C:\\Users\\Joshua Chima\\.conda\\envs\\Machine Learning\\lib\\site-packages\\ipykernel\\__main__.py:3: UserWarning:\n",
      "\n",
      "Update your `LSTM` call to the Keras 2 API: `LSTM(input_shape=(1, 10), units=50, return_sequences=True)`\n",
      "\n"
     ]
    },
    {
     "name": "stdout",
     "output_type": "stream",
     "text": [
      "_________________________________________________________________\n",
      "Layer (type)                 Output Shape              Param #   \n",
      "=================================================================\n",
      "lstm_21 (LSTM)               (None, 1, 50)             12200     \n",
      "_________________________________________________________________\n",
      "dropout_19 (Dropout)         (None, 1, 50)             0         \n",
      "_________________________________________________________________\n",
      "lstm_22 (LSTM)               (None, 265)               334960    \n",
      "_________________________________________________________________\n",
      "dropout_20 (Dropout)         (None, 265)               0         \n",
      "_________________________________________________________________\n",
      "dense_9 (Dense)              (None, 1)                 266       \n",
      "=================================================================\n",
      "Total params: 347,426\n",
      "Trainable params: 347,426\n",
      "Non-trainable params: 0\n",
      "_________________________________________________________________\n",
      "Train on 26280 samples, validate on 4558 samples\n",
      "Epoch 1/50\n",
      " - 15s - loss: 0.1019 - val_loss: 0.0218\n",
      "Epoch 2/50\n",
      " - 10s - loss: 0.0424 - val_loss: 0.0170\n",
      "Epoch 3/50\n",
      " - 10s - loss: 0.0366 - val_loss: 0.0224\n",
      "Epoch 4/50\n",
      " - 10s - loss: 0.0318 - val_loss: 0.0219\n",
      "Epoch 5/50\n",
      " - 10s - loss: 0.0275 - val_loss: 0.0258\n",
      "Epoch 6/50\n",
      " - 10s - loss: 0.0246 - val_loss: 0.0213\n",
      "Epoch 7/50\n",
      " - 10s - loss: 0.0225 - val_loss: 0.0215\n",
      "Epoch 8/50\n",
      " - 10s - loss: 0.0214 - val_loss: 0.0175\n",
      "Epoch 9/50\n",
      " - 10s - loss: 0.0207 - val_loss: 0.0199\n",
      "Epoch 10/50\n",
      " - 10s - loss: 0.0206 - val_loss: 0.0174\n",
      "Epoch 11/50\n",
      " - 10s - loss: 0.0202 - val_loss: 0.0170\n",
      "Epoch 12/50\n",
      " - 10s - loss: 0.0202 - val_loss: 0.0181\n",
      "Epoch 13/50\n",
      " - 10s - loss: 0.0202 - val_loss: 0.0165\n",
      "Epoch 14/50\n",
      " - 10s - loss: 0.0201 - val_loss: 0.0169\n",
      "Epoch 15/50\n",
      " - 10s - loss: 0.0198 - val_loss: 0.0169\n",
      "Epoch 16/50\n",
      " - 10s - loss: 0.0198 - val_loss: 0.0153\n",
      "Epoch 17/50\n",
      " - 10s - loss: 0.0195 - val_loss: 0.0177\n",
      "Epoch 18/50\n",
      " - 10s - loss: 0.0195 - val_loss: 0.0144\n",
      "Epoch 19/50\n",
      " - 10s - loss: 0.0191 - val_loss: 0.0136\n",
      "Epoch 20/50\n",
      " - 10s - loss: 0.0188 - val_loss: 0.0130\n",
      "Epoch 21/50\n",
      " - 10s - loss: 0.0186 - val_loss: 0.0127\n",
      "Epoch 22/50\n",
      " - 10s - loss: 0.0185 - val_loss: 0.0125\n",
      "Epoch 23/50\n",
      " - 10s - loss: 0.0185 - val_loss: 0.0127\n",
      "Epoch 24/50\n",
      " - 10s - loss: 0.0185 - val_loss: 0.0129\n",
      "Epoch 25/50\n",
      " - 10s - loss: 0.0183 - val_loss: 0.0125\n",
      "Epoch 26/50\n",
      " - 10s - loss: 0.0184 - val_loss: 0.0126\n",
      "Epoch 27/50\n",
      " - 10s - loss: 0.0183 - val_loss: 0.0131\n",
      "Epoch 28/50\n",
      " - 10s - loss: 0.0182 - val_loss: 0.0127\n",
      "Epoch 29/50\n",
      " - 10s - loss: 0.0182 - val_loss: 0.0126\n",
      "Epoch 30/50\n",
      " - 10s - loss: 0.0182 - val_loss: 0.0131\n",
      "Epoch 31/50\n",
      " - 10s - loss: 0.0181 - val_loss: 0.0126\n",
      "Epoch 32/50\n",
      " - 10s - loss: 0.0182 - val_loss: 0.0126\n",
      "Epoch 33/50\n",
      " - 10s - loss: 0.0181 - val_loss: 0.0124\n",
      "Epoch 34/50\n",
      " - 10s - loss: 0.0181 - val_loss: 0.0125\n",
      "Epoch 35/50\n",
      " - 10s - loss: 0.0181 - val_loss: 0.0127\n",
      "Epoch 36/50\n",
      " - 10s - loss: 0.0181 - val_loss: 0.0128\n",
      "Epoch 37/50\n",
      " - 10s - loss: 0.0180 - val_loss: 0.0128\n",
      "Epoch 38/50\n",
      " - 10s - loss: 0.0181 - val_loss: 0.0125\n",
      "Epoch 39/50\n",
      " - 10s - loss: 0.0180 - val_loss: 0.0125\n",
      "Epoch 40/50\n",
      " - 10s - loss: 0.0180 - val_loss: 0.0133\n",
      "Epoch 41/50\n",
      " - 11s - loss: 0.0180 - val_loss: 0.0127\n",
      "Epoch 42/50\n",
      " - 10s - loss: 0.0180 - val_loss: 0.0125\n",
      "Epoch 43/50\n",
      " - 10s - loss: 0.0180 - val_loss: 0.0125\n",
      "Epoch 44/50\n",
      " - 10s - loss: 0.0180 - val_loss: 0.0129\n",
      "Epoch 45/50\n",
      " - 10s - loss: 0.0179 - val_loss: 0.0125\n",
      "Epoch 46/50\n",
      " - 11s - loss: 0.0180 - val_loss: 0.0126\n",
      "Epoch 47/50\n",
      " - 11s - loss: 0.0180 - val_loss: 0.0125\n",
      "Epoch 48/50\n",
      " - 12s - loss: 0.0180 - val_loss: 0.0127\n",
      "Epoch 49/50\n",
      " - 10s - loss: 0.0180 - val_loss: 0.0125\n",
      "Epoch 50/50\n",
      " - 11s - loss: 0.0179 - val_loss: 0.0125\n"
     ]
    },
    {
     "data": {
      "image/png": "[encoded data removed]",
      "text/plain": [
       "<matplotlib.figure.Figure at 0x214a9fc2dd8>"
      ]
     },
     "metadata": {},
     "output_type": "display_data"
    }
   ],
   "source": [
    "# design network\n",
    "model = Sequential()\n",
    "model.add(LSTM(input_shape=(train_X.shape[1], train_X.shape[2]), output_dim=50, return_sequences=True))\n",
    "model.add(Dropout(0.5))\n",
    "model.add(LSTM(265, activation='relu'))\n",
    "model.add(Dropout(0.5))\n",
    "model.add(Dense(1))\n",
    "model.compile(loss='mae', optimizer='adam')\n",
    "model.summary()\n",
    "# fit network\n",
    "history = model.fit(train_X, train_y, epochs=50, batch_size=50, validation_data=(test_X, test_y), verbose=2, shuffle=False)\n",
    "# plot history\n",
    "plt.plot(history.history['loss'], label='train')\n",
    "plt.plot(history.history['val_loss'], label='test')\n",
    "plt.legend()\n",
    "plt.show()\n"
   ]
  },
  {
   "cell_type": "code",
   "execution_count": 58,
   "metadata": {},
   "outputs": [
    {
     "name": "stdout",
     "output_type": "stream",
     "text": [
      "Test RMSE: 0.443\n"
     ]
    }
   ],
   "source": [
    "# make a prediction\n",
    "yhat = model.predict(test_X)\n",
    "test_X = test_X.reshape((test_X.shape[0], test_X.shape[2]))\n",
    "# invert scaling for forecast\n",
    "inv_yhat = concatenate((yhat, test_X[:, 1:]), axis=1)\n",
    "inv_yhat = scaler.inverse_transform(inv_yhat)\n",
    "inv_yhat = inv_yhat[:,0]\n",
    "# invert scaling for actual\n",
    "test_y = test_y.reshape((len(test_y), 1))\n",
    "inv_y = concatenate((test_y, test_X[:, 1:]), axis=1)\n",
    "inv_y = scaler.inverse_transform(inv_y)\n",
    "inv_y = inv_y[:,0]\n",
    "# calculate RMSE\n",
    "rmse = sqrt(mean_squared_error(inv_y, inv_yhat))\n",
    "print('Test RMSE: %.3f' % rmse)"
   ]
  },
  {
   "cell_type": "code",
   "execution_count": null,
   "metadata": {
    "collapsed": true
   },
   "outputs": [],
   "source": []
  }
 ],
 "metadata": {
  "kernelspec": {
   "display_name": "Python 3",
   "language": "python",
   "name": "python3"
  },
  "language_info": {
   "codemirror_mode": {
    "name": "ipython",
    "version": 3
   },
   "file_extension": ".py",
   "mimetype": "text/x-python",
   "name": "python",
   "nbconvert_exporter": "python",
   "pygments_lexer": "ipython3",
   "version": "3.5.3"
  }
 },
 "nbformat": 4,
 "nbformat_minor": 2
}
