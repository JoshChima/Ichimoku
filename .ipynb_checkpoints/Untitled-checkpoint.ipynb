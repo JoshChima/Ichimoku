{
 "cells": [
  {
   "cell_type": "code",
   "execution_count": null,
   "metadata": {
    "collapsed": true
   },
   "outputs": [],
   "source": [
    "from Methods import MetaTraderDataConverter, Ichimoku\n",
    "\n",
    "import datetime\n",
    "\n",
    "import matplotlib as mpl\n",
    "import matplotlib.pyplot as plt\n",
    "import matplotlib.dates as mdates\n",
    "\n",
    "from mpl_finance import candlestick_ohlc\n",
    "import pandas as pd\n",
    "import numpy as np\n",
    "%matplotlib inline\n",
    "\n",
    "datafile=\"USDJPY_H1_2014_2018.csv\"\n",
    "\n",
    "df = MetaTraderDataConverter(datafile)\n",
    "#df = Ichimoku(df)\n",
    "\n",
    "start = df.index[0]\n",
    "end = df.index[200]\n",
    "\n",
    "df = df.iloc[0:200]\n",
    "\n",
    "\n",
    "#df.reset_index(level=0, inplace=True)\n",
    "#df['Date'] = df['Date'].astype(int)\n",
    "\n",
    "#df['Date'] = mpl.dates.date2num(df.index.to_pydatetime())\n",
    "df['Date'] = df.index\n",
    "df = df.reset_index(drop=True)\n",
    "\n",
    "df['Date'] = [mdates.date2num(d) for d in df['Date']]\n",
    "\n",
    "print(df)\n",
    "\n",
    "quotes = [tuple(x) for x in df[['Date','Open','High','Low','Close']].values]\n",
    "\n",
    "fig, ax = plt.subplots()\n",
    "candlestick_ohlc(ax, df[['Date','Open','High','Low','Close']].values, width=0.05, colorup='g', colordown='r')\n",
    "plt.xlabel('Date')\n",
    "plt.ylabel('Price')\n",
    "plt.title('Apple')\n",
    " \n",
    "# Format time.\n",
    "ax.xaxis_date()\n",
    "ax.xaxis.set_major_formatter(mdates.DateFormatter(\"%Y-%m-%d-%h-%m\"))\n",
    " \n",
    "plt.gcf().autofmt_xdate()   # Beautify the x-labels\n",
    "plt.autoscale(tight=True)\n",
    " \n",
    "# Save graph to file.\n",
    "plt.savefig('mpl_finance-usd_jpy.png')"
   ]
  }
 ],
 "metadata": {
  "kernelspec": {
   "display_name": "Python 3",
   "language": "python",
   "name": "python3"
  },
  "language_info": {
   "codemirror_mode": {
    "name": "ipython",
    "version": 3
   },
   "file_extension": ".py",
   "mimetype": "text/x-python",
   "name": "python",
   "nbconvert_exporter": "python",
   "pygments_lexer": "ipython3",
   "version": "3.5.3"
  }
 },
 "nbformat": 4,
 "nbformat_minor": 2
}
